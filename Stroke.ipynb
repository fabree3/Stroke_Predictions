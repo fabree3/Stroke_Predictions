{
 "cells": [
  {
   "cell_type": "markdown",
   "metadata": {},
   "source": [
    "## Import Libraries "
   ]
  },
  {
   "cell_type": "code",
   "execution_count": 23,
   "metadata": {},
   "outputs": [],
   "source": [
    "import numpy as np\n",
    "import pandas as pd\n",
    "import seaborn as sns\n",
    "import matplotlib.pyplot as plt\n",
    "import plotly.graph_objects as go\n",
    "import sklearn\n",
    "import time\n",
    "\n",
    "import xgboost as xgb\n",
    "from sklearn.model_selection import train_test_split, RandomizedSearchCV\n",
    "from sklearn.model_selection import cross_val_score\n",
    "from sklearn.model_selection import GridSearchCV\n",
    "from sklearn.metrics import confusion_matrix, classification_report\n",
    "from sklearn.preprocessing import LabelEncoder \n",
    "from sklearn.neighbors import KNeighborsClassifier\n",
    "from sklearn.impute import KNNImputer \n",
    "from sklearn.ensemble import RandomForestClassifier\n",
    "from sklearn import metrics\n",
    "\n",
    "\n",
    "import warnings\n",
    "warnings.filterwarnings('ignore')"
   ]
  },
  {
   "cell_type": "markdown",
   "metadata": {},
   "source": [
    "## Load Data"
   ]
  },
  {
   "cell_type": "code",
   "execution_count": 5,
   "metadata": {},
   "outputs": [],
   "source": [
    "stroke_df = pd.read_csv(\"stroke_data.csv\")\n",
    "stroke_df = stroke_df.drop('id', axis = 1)"
   ]
  },
  {
   "cell_type": "code",
   "execution_count": 6,
   "metadata": {},
   "outputs": [
    {
     "data": {
      "text/html": [
       "<div>\n",
       "<style scoped>\n",
       "    .dataframe tbody tr th:only-of-type {\n",
       "        vertical-align: middle;\n",
       "    }\n",
       "\n",
       "    .dataframe tbody tr th {\n",
       "        vertical-align: top;\n",
       "    }\n",
       "\n",
       "    .dataframe thead th {\n",
       "        text-align: right;\n",
       "    }\n",
       "</style>\n",
       "<table border=\"1\" class=\"dataframe\">\n",
       "  <thead>\n",
       "    <tr style=\"text-align: right;\">\n",
       "      <th></th>\n",
       "      <th>gender</th>\n",
       "      <th>age</th>\n",
       "      <th>hypertension</th>\n",
       "      <th>heart_disease</th>\n",
       "      <th>ever_married</th>\n",
       "      <th>work_type</th>\n",
       "      <th>Residence_type</th>\n",
       "      <th>avg_glucose_level</th>\n",
       "      <th>bmi</th>\n",
       "      <th>smoking_status</th>\n",
       "      <th>stroke</th>\n",
       "    </tr>\n",
       "  </thead>\n",
       "  <tbody>\n",
       "    <tr>\n",
       "      <th>0</th>\n",
       "      <td>Male</td>\n",
       "      <td>67.0</td>\n",
       "      <td>0</td>\n",
       "      <td>1</td>\n",
       "      <td>Yes</td>\n",
       "      <td>Private</td>\n",
       "      <td>Urban</td>\n",
       "      <td>228.69</td>\n",
       "      <td>36.6</td>\n",
       "      <td>formerly smoked</td>\n",
       "      <td>1</td>\n",
       "    </tr>\n",
       "    <tr>\n",
       "      <th>1</th>\n",
       "      <td>Female</td>\n",
       "      <td>61.0</td>\n",
       "      <td>0</td>\n",
       "      <td>0</td>\n",
       "      <td>Yes</td>\n",
       "      <td>Self-employed</td>\n",
       "      <td>Rural</td>\n",
       "      <td>202.21</td>\n",
       "      <td>NaN</td>\n",
       "      <td>never smoked</td>\n",
       "      <td>1</td>\n",
       "    </tr>\n",
       "    <tr>\n",
       "      <th>2</th>\n",
       "      <td>Male</td>\n",
       "      <td>80.0</td>\n",
       "      <td>0</td>\n",
       "      <td>1</td>\n",
       "      <td>Yes</td>\n",
       "      <td>Private</td>\n",
       "      <td>Rural</td>\n",
       "      <td>105.92</td>\n",
       "      <td>32.5</td>\n",
       "      <td>never smoked</td>\n",
       "      <td>1</td>\n",
       "    </tr>\n",
       "    <tr>\n",
       "      <th>3</th>\n",
       "      <td>Female</td>\n",
       "      <td>49.0</td>\n",
       "      <td>0</td>\n",
       "      <td>0</td>\n",
       "      <td>Yes</td>\n",
       "      <td>Private</td>\n",
       "      <td>Urban</td>\n",
       "      <td>171.23</td>\n",
       "      <td>34.4</td>\n",
       "      <td>smokes</td>\n",
       "      <td>1</td>\n",
       "    </tr>\n",
       "    <tr>\n",
       "      <th>4</th>\n",
       "      <td>Female</td>\n",
       "      <td>79.0</td>\n",
       "      <td>1</td>\n",
       "      <td>0</td>\n",
       "      <td>Yes</td>\n",
       "      <td>Self-employed</td>\n",
       "      <td>Rural</td>\n",
       "      <td>174.12</td>\n",
       "      <td>24.0</td>\n",
       "      <td>never smoked</td>\n",
       "      <td>1</td>\n",
       "    </tr>\n",
       "    <tr>\n",
       "      <th>5</th>\n",
       "      <td>Male</td>\n",
       "      <td>81.0</td>\n",
       "      <td>0</td>\n",
       "      <td>0</td>\n",
       "      <td>Yes</td>\n",
       "      <td>Private</td>\n",
       "      <td>Urban</td>\n",
       "      <td>186.21</td>\n",
       "      <td>29.0</td>\n",
       "      <td>formerly smoked</td>\n",
       "      <td>1</td>\n",
       "    </tr>\n",
       "    <tr>\n",
       "      <th>6</th>\n",
       "      <td>Male</td>\n",
       "      <td>74.0</td>\n",
       "      <td>1</td>\n",
       "      <td>1</td>\n",
       "      <td>Yes</td>\n",
       "      <td>Private</td>\n",
       "      <td>Rural</td>\n",
       "      <td>70.09</td>\n",
       "      <td>27.4</td>\n",
       "      <td>never smoked</td>\n",
       "      <td>1</td>\n",
       "    </tr>\n",
       "    <tr>\n",
       "      <th>7</th>\n",
       "      <td>Female</td>\n",
       "      <td>69.0</td>\n",
       "      <td>0</td>\n",
       "      <td>0</td>\n",
       "      <td>No</td>\n",
       "      <td>Private</td>\n",
       "      <td>Urban</td>\n",
       "      <td>94.39</td>\n",
       "      <td>22.8</td>\n",
       "      <td>never smoked</td>\n",
       "      <td>1</td>\n",
       "    </tr>\n",
       "    <tr>\n",
       "      <th>8</th>\n",
       "      <td>Female</td>\n",
       "      <td>59.0</td>\n",
       "      <td>0</td>\n",
       "      <td>0</td>\n",
       "      <td>Yes</td>\n",
       "      <td>Private</td>\n",
       "      <td>Rural</td>\n",
       "      <td>76.15</td>\n",
       "      <td>NaN</td>\n",
       "      <td>Unknown</td>\n",
       "      <td>1</td>\n",
       "    </tr>\n",
       "    <tr>\n",
       "      <th>9</th>\n",
       "      <td>Female</td>\n",
       "      <td>78.0</td>\n",
       "      <td>0</td>\n",
       "      <td>0</td>\n",
       "      <td>Yes</td>\n",
       "      <td>Private</td>\n",
       "      <td>Urban</td>\n",
       "      <td>58.57</td>\n",
       "      <td>24.2</td>\n",
       "      <td>Unknown</td>\n",
       "      <td>1</td>\n",
       "    </tr>\n",
       "  </tbody>\n",
       "</table>\n",
       "</div>"
      ],
      "text/plain": [
       "   gender   age  hypertension  heart_disease ever_married      work_type  \\\n",
       "0    Male  67.0             0              1          Yes        Private   \n",
       "1  Female  61.0             0              0          Yes  Self-employed   \n",
       "2    Male  80.0             0              1          Yes        Private   \n",
       "3  Female  49.0             0              0          Yes        Private   \n",
       "4  Female  79.0             1              0          Yes  Self-employed   \n",
       "5    Male  81.0             0              0          Yes        Private   \n",
       "6    Male  74.0             1              1          Yes        Private   \n",
       "7  Female  69.0             0              0           No        Private   \n",
       "8  Female  59.0             0              0          Yes        Private   \n",
       "9  Female  78.0             0              0          Yes        Private   \n",
       "\n",
       "  Residence_type  avg_glucose_level   bmi   smoking_status  stroke  \n",
       "0          Urban             228.69  36.6  formerly smoked       1  \n",
       "1          Rural             202.21   NaN     never smoked       1  \n",
       "2          Rural             105.92  32.5     never smoked       1  \n",
       "3          Urban             171.23  34.4           smokes       1  \n",
       "4          Rural             174.12  24.0     never smoked       1  \n",
       "5          Urban             186.21  29.0  formerly smoked       1  \n",
       "6          Rural              70.09  27.4     never smoked       1  \n",
       "7          Urban              94.39  22.8     never smoked       1  \n",
       "8          Rural              76.15   NaN          Unknown       1  \n",
       "9          Urban              58.57  24.2          Unknown       1  "
      ]
     },
     "execution_count": 6,
     "metadata": {},
     "output_type": "execute_result"
    }
   ],
   "source": [
    "stroke_df.head(10)"
   ]
  },
  {
   "cell_type": "code",
   "execution_count": 7,
   "metadata": {},
   "outputs": [
    {
     "data": {
      "text/plain": [
       "(5110, 11)"
      ]
     },
     "execution_count": 7,
     "metadata": {},
     "output_type": "execute_result"
    }
   ],
   "source": [
    "stroke_df.shape"
   ]
  },
  {
   "cell_type": "code",
   "execution_count": 8,
   "metadata": {},
   "outputs": [
    {
     "data": {
      "text/plain": [
       "gender               False\n",
       "age                  False\n",
       "hypertension         False\n",
       "heart_disease        False\n",
       "ever_married         False\n",
       "work_type            False\n",
       "Residence_type       False\n",
       "avg_glucose_level    False\n",
       "bmi                   True\n",
       "smoking_status       False\n",
       "stroke               False\n",
       "dtype: bool"
      ]
     },
     "execution_count": 8,
     "metadata": {},
     "output_type": "execute_result"
    }
   ],
   "source": [
    "stroke_df.isna().any()"
   ]
  },
  {
   "cell_type": "code",
   "execution_count": 9,
   "metadata": {},
   "outputs": [
    {
     "data": {
      "text/plain": [
       "0    4861\n",
       "1     249\n",
       "Name: stroke, dtype: int64"
      ]
     },
     "execution_count": 9,
     "metadata": {},
     "output_type": "execute_result"
    }
   ],
   "source": [
    "#Frequency Count for target variable \n",
    "stroke_df['stroke'].value_counts()"
   ]
  },
  {
   "cell_type": "code",
   "execution_count": 10,
   "metadata": {},
   "outputs": [
    {
     "data": {
      "text/plain": [
       "gender                object\n",
       "age                  float64\n",
       "hypertension           int64\n",
       "heart_disease          int64\n",
       "ever_married          object\n",
       "work_type             object\n",
       "Residence_type        object\n",
       "avg_glucose_level    float64\n",
       "bmi                  float64\n",
       "smoking_status        object\n",
       "stroke                 int64\n",
       "dtype: object"
      ]
     },
     "execution_count": 10,
     "metadata": {},
     "output_type": "execute_result"
    }
   ],
   "source": [
    "stroke_df.dtypes"
   ]
  },
  {
   "cell_type": "markdown",
   "metadata": {},
   "source": [
    "Observations: 1) This dataset is unblanced which will end up skewing our model's results. We will deal with this later on; 2) We have some missing values in the 'bmi' feature. We will have to deal with this as well. "
   ]
  },
  {
   "cell_type": "markdown",
   "metadata": {},
   "source": [
    "## Exploratory Data Analysis (EDA)"
   ]
  },
  {
   "cell_type": "code",
   "execution_count": 11,
   "metadata": {},
   "outputs": [
    {
     "data": {
      "text/plain": [
       "<seaborn.axisgrid.FacetGrid at 0x7fd7d2b66d90>"
      ]
     },
     "execution_count": 11,
     "metadata": {},
     "output_type": "execute_result"
    },
    {
     "data": {
      "image/png": "[encoded data removed]",
      "text/plain": [
       "<Figure size 402.375x360 with 1 Axes>"
      ]
     },
     "metadata": {
      "needs_background": "light"
     },
     "output_type": "display_data"
    }
   ],
   "source": [
    "sns.catplot(y = 'work_type', hue = 'stroke', kind = 'count', palette = 'pastel', edgecolor = '.6', data = stroke_df )"
   ]
  },
  {
   "cell_type": "code",
   "execution_count": 12,
   "metadata": {},
   "outputs": [
    {
     "data": {
      "text/plain": [
       "<seaborn.axisgrid.FacetGrid at 0x7fd7d70e95e0>"
      ]
     },
     "execution_count": 12,
     "metadata": {},
     "output_type": "execute_result"
    },
    {
     "data": {
      "image/png": "[encoded data removed]",
      "text/plain": [
       "<Figure size 402.375x360 with 1 Axes>"
      ]
     },
     "metadata": {
      "needs_background": "light"
     },
     "output_type": "display_data"
    }
   ],
   "source": [
    "sns.catplot(y=\"smoking_status\", hue=\"stroke\", kind=\"count\",\n",
    "            palette=\"pastel\", edgecolor=\".6\",\n",
    "            data=stroke_df)"
   ]
  },
  {
   "cell_type": "code",
   "execution_count": 13,
   "metadata": {},
   "outputs": [
    {
     "data": {
      "text/plain": [
       "<Figure size 1224x504 with 0 Axes>"
      ]
     },
     "metadata": {},
     "output_type": "display_data"
    },
    {
     "data": {
      "image/png": "[encoded data removed]",
      "text/plain": [
       "<Figure size 437.75x360 with 1 Axes>"
      ]
     },
     "metadata": {
      "needs_background": "light"
     },
     "output_type": "display_data"
    },
    {
     "data": {
      "image/png": "[encoded data removed]",
      "text/plain": [
       "<Figure size 446.25x360 with 1 Axes>"
      ]
     },
     "metadata": {
      "needs_background": "light"
     },
     "output_type": "display_data"
    },
    {
     "data": {
      "image/png": "[encoded data removed]",
      "text/plain": [
       "<Figure size 433.625x360 with 1 Axes>"
      ]
     },
     "metadata": {
      "needs_background": "light"
     },
     "output_type": "display_data"
    }
   ],
   "source": [
    "plt.figure(figsize = (17,7)) \n",
    "sns.catplot(x=\"gender\", y=\"stroke\", hue=\"heart_disease\", palette=\"pastel\", kind=\"bar\", data=stroke_df)\n",
    "sns.catplot(x=\"gender\", y=\"stroke\", hue=\"Residence_type\", palette=\"pastel\", kind=\"bar\", data=stroke_df)\n",
    "sns.catplot(x=\"gender\", y=\"stroke\", hue=\"hypertension\", palette=\"pastel\", kind=\"bar\", data=stroke_df)\n",
    "plt.show()"
   ]
  },
  {
   "cell_type": "code",
   "execution_count": 14,
   "metadata": {},
   "outputs": [
    {
     "data": {
      "text/plain": [
       "<AxesSubplot:>"
      ]
     },
     "execution_count": 14,
     "metadata": {},
     "output_type": "execute_result"
    },
    {
     "data": {
      "image/png": "[encoded data removed]",
      "text/plain": [
       "<Figure size 792x504 with 2 Axes>"
      ]
     },
     "metadata": {
      "needs_background": "light"
     },
     "output_type": "display_data"
    }
   ],
   "source": [
    "corr = stroke_df.corr()\n",
    "fig, ax = plt.subplots()\n",
    "fig.set_size_inches(11,7)\n",
    "sns.heatmap(corr, annot = True, fmt = \".1f\", cmap = 'RdBu', center = 0, ax = ax)\n"
   ]
  },
  {
   "cell_type": "code",
   "execution_count": 15,
   "metadata": {},
   "outputs": [
    {
     "data": {
      "image/png": "[encoded data removed]",
      "text/plain": [
       "<Figure size 432x288 with 3 Axes>"
      ]
     },
     "metadata": {
      "needs_background": "light"
     },
     "output_type": "display_data"
    }
   ],
   "source": [
    "fig, axes = plt.subplots(nrows=1, ncols=3)\n",
    "stroke_df.boxplot(column = 'bmi', by = 'stroke', ax = axes[0])\n",
    "stroke_df.boxplot(column = 'age', by = 'stroke', ax = axes[1])\n",
    "stroke_df.boxplot(column = 'avg_glucose_level', by = 'stroke', ax = axes[2])\n",
    "\n",
    "\n",
    "for ax in axes:\n",
    "    ax.set_xlabel('Stroke')\n",
    "    \n",
    "plt.suptitle('')\n",
    "plt.tight_layout()"
   ]
  },
  {
   "cell_type": "markdown",
   "metadata": {},
   "source": [
    "Observations:\n",
    "\n",
    "1) Gender is not a feature that determines whether a person has a stroke or not\n",
    "\n",
    "2) There's a high correlation between the hypertension variable and stroke\n",
    "\n",
    "3) Suprisngly, it seems like smokers aren't at a high risk to have a stroke "
   ]
  },
  {
   "cell_type": "markdown",
   "metadata": {},
   "source": [
    "## Data Cleaning & Preperation "
   ]
  },
  {
   "cell_type": "code",
   "execution_count": 16,
   "metadata": {},
   "outputs": [],
   "source": [
    "le = LabelEncoder()\n",
    "en_df = stroke_df.apply(le.fit_transform)"
   ]
  },
  {
   "cell_type": "code",
   "execution_count": 17,
   "metadata": {},
   "outputs": [
    {
     "data": {
      "text/plain": [
       "array([[  1.,  88.,   0., ..., 239.,   1.,   1.],\n",
       "       [  0.,  82.,   0., ..., 418.,   2.,   1.],\n",
       "       [  1., 101.,   0., ..., 198.,   2.,   1.],\n",
       "       ...,\n",
       "       [  0.,  56.,   0., ..., 179.,   2.,   0.],\n",
       "       [  1.,  72.,   0., ..., 129.,   1.,   0.],\n",
       "       [  0.,  65.,   0., ..., 135.,   0.,   0.]])"
      ]
     },
     "execution_count": 17,
     "metadata": {},
     "output_type": "execute_result"
    }
   ],
   "source": [
    "en_df_imp = en_df\n",
    "imputer = KNNImputer(n_neighbors=4, weights=\"uniform\")\n",
    "imputer.fit_transform(en_df_imp)"
   ]
  },
  {
   "cell_type": "code",
   "execution_count": 18,
   "metadata": {},
   "outputs": [],
   "source": [
    "from imblearn.over_sampling import SMOTE"
   ]
  },
  {
   "cell_type": "code",
   "execution_count": 19,
   "metadata": {},
   "outputs": [],
   "source": [
    "X = en_df_imp.drop(['stroke'], axis = 1)\n",
    "y = en_df_imp['stroke']"
   ]
  },
  {
   "cell_type": "code",
   "execution_count": 20,
   "metadata": {},
   "outputs": [],
   "source": [
    "oversample = SMOTE()\n",
    "X, y = oversample.fit_resample(X, y)"
   ]
  },
  {
   "cell_type": "markdown",
   "metadata": {},
   "source": [
    "## Split Data"
   ]
  },
  {
   "cell_type": "code",
   "execution_count": 21,
   "metadata": {},
   "outputs": [],
   "source": [
    "X_train, X_valid, y_train, y_valid = train_test_split(X, y, test_size = 0.3, random_state = 42)"
   ]
  },
  {
   "cell_type": "markdown",
   "metadata": {},
   "source": [
    "## Model Building"
   ]
  },
  {
   "cell_type": "code",
   "execution_count": 24,
   "metadata": {},
   "outputs": [
    {
     "name": "stdout",
     "output_type": "stream",
     "text": [
      "Total time in seconds ==>  855.0761020183563\n"
     ]
    }
   ],
   "source": [
    "parameters = {\n",
    "        'max_depth': range(2, 6),\n",
    "        'n_estimators': [50, 100, 150, 200, 250, 300],\n",
    "        'subsample': [0.6, 0.7, 0.8],\n",
    "        'colsample_bytree': [0.2, 0.4, 0.5, 0.6, 0.7, 0.8, 1],\n",
    "        'colsample_bynode': [0.2, 0.4, 0.5, 0.6, 0.7, 0.8, 1],\n",
    "        'gamma': [0, 5, 10, 15, 20],\n",
    "        'learning_rate': [0.05, 0.1, 0.15, 0.2, 0.25, 0.3],\n",
    "        'lambda': [0.1, 0.25, 0.5, 0.75, 1]\n",
    "}\n",
    "\n",
    "start = time.time() \n",
    "\n",
    "clf = RandomizedSearchCV(xgb.XGBClassifier(use_label_encoder = False, eval_metric = \"logloss\"), \n",
    "                         parameters, n_jobs=4, scoring = \"roc_auc\", n_iter = 300,\n",
    "                         random_state = 123)\n",
    "\n",
    "clf.fit(X_train, y_train)\n",
    "\n",
    "end = time.time()\n",
    "\n",
    "# print the number of seconds it takes to run the hyperparameter search\n",
    "print(\"Total time in seconds ==> \", end - start)\n"
   ]
  },
  {
   "cell_type": "code",
   "execution_count": 25,
   "metadata": {},
   "outputs": [],
   "source": [
    "train_pred = clf.predict(X_train)\n",
    "val_pred = clf.predict(X_valid)"
   ]
  },
  {
   "cell_type": "markdown",
   "metadata": {},
   "source": [
    "## Feature Importance "
   ]
  },
  {
   "cell_type": "code",
   "execution_count": 31,
   "metadata": {},
   "outputs": [
    {
     "data": {
      "text/plain": [
       "<AxesSubplot:title={'center':'Feature importance'}, xlabel='Feature importance score', ylabel='Features'>"
      ]
     },
     "execution_count": 31,
     "metadata": {},
     "output_type": "execute_result"
    },
    {
     "data": {
      "image/png": "[encoded data removed]",
      "text/plain": [
       "<Figure size 432x288 with 1 Axes>"
      ]
     },
     "metadata": {
      "needs_background": "light"
     },
     "output_type": "display_data"
    }
   ],
   "source": [
    "# non-normalized feature importance\n",
    "# XGBoost has a built-in function to plot importance\n",
    "xgb.plot_importance(clf.best_estimator_, importance_type = \"gain\", xlabel = \"Feature importance score\")"
   ]
  },
  {
   "cell_type": "markdown",
   "metadata": {},
   "source": [
    "## Model Results"
   ]
  },
  {
   "cell_type": "code",
   "execution_count": 26,
   "metadata": {},
   "outputs": [
    {
     "name": "stdout",
     "output_type": "stream",
     "text": [
      "Training recall:  0.9979417818288738\n",
      "Validation recall:  0.9582191780821918\n",
      "\n",
      "\n",
      "Training precision:  0.9869148008141901\n",
      "Validation precision:  0.9119947848761408\n",
      "\n",
      "\n",
      "Training accuracy:  0.9923585598824394\n",
      "Validation accuracy:  0.932807679122386\n",
      "\n",
      "\n",
      "Training AUC:  0.999797875167012\n",
      "Validation AUC:  0.979887129680992\n"
     ]
    }
   ],
   "source": [
    "print(\"Training recall: \", metrics.recall_score(y_train, train_pred))\n",
    "print(\"Validation recall: \", metrics.recall_score(y_valid, val_pred))\n",
    "\n",
    "print(\"\\n\")\n",
    "\n",
    "print(\"Training precision: \", metrics.precision_score(y_train, train_pred))\n",
    "print(\"Validation precision: \", metrics.precision_score(y_valid, val_pred))\n",
    "\n",
    "print(\"\\n\")\n",
    "\n",
    "print(\"Training accuracy: \", metrics.accuracy_score(y_train, train_pred))\n",
    "print(\"Validation accuracy: \", metrics.accuracy_score(y_valid, val_pred))\n",
    "\n",
    "print(\"\\n\")\n",
    "\n",
    "y_train_prob = clf.predict_proba(X_train)\n",
    "y_val_prob = clf.predict_proba(X_valid)\n",
    "\n",
    "fpr, tpr, thresholds = metrics.roc_curve(y_train, y_train_prob[:,1], pos_label = 1)\n",
    "print(\"Training AUC: \", metrics.auc(fpr, tpr))\n",
    "\n",
    "fpr, tpr, thresholds = metrics.roc_curve(y_valid, y_val_prob[:,1], pos_label = 1)\n",
    "print(\"Validation AUC: \", metrics.auc(fpr, tpr))"
   ]
  },
  {
   "cell_type": "code",
   "execution_count": 28,
   "metadata": {},
   "outputs": [
    {
     "data": {
      "text/html": [
       "<div>\n",
       "<style scoped>\n",
       "    .dataframe tbody tr th:only-of-type {\n",
       "        vertical-align: middle;\n",
       "    }\n",
       "\n",
       "    .dataframe tbody tr th {\n",
       "        vertical-align: top;\n",
       "    }\n",
       "\n",
       "    .dataframe thead th {\n",
       "        text-align: right;\n",
       "    }\n",
       "</style>\n",
       "<table border=\"1\" class=\"dataframe\">\n",
       "  <thead>\n",
       "    <tr style=\"text-align: right;\">\n",
       "      <th></th>\n",
       "      <th>threshold</th>\n",
       "      <th>precision</th>\n",
       "      <th>recall</th>\n",
       "      <th>accuracy</th>\n",
       "      <th>f1_score</th>\n",
       "    </tr>\n",
       "  </thead>\n",
       "  <tbody>\n",
       "    <tr>\n",
       "      <th>0</th>\n",
       "      <td>0.01</td>\n",
       "      <td>0.741605</td>\n",
       "      <td>1.000000</td>\n",
       "      <td>0.825863</td>\n",
       "      <td>0.851634</td>\n",
       "    </tr>\n",
       "    <tr>\n",
       "      <th>1</th>\n",
       "      <td>0.02</td>\n",
       "      <td>0.774715</td>\n",
       "      <td>1.000000</td>\n",
       "      <td>0.854666</td>\n",
       "      <td>0.873059</td>\n",
       "    </tr>\n",
       "    <tr>\n",
       "      <th>2</th>\n",
       "      <td>0.03</td>\n",
       "      <td>0.796114</td>\n",
       "      <td>1.000000</td>\n",
       "      <td>0.872006</td>\n",
       "      <td>0.886485</td>\n",
       "    </tr>\n",
       "    <tr>\n",
       "      <th>3</th>\n",
       "      <td>0.04</td>\n",
       "      <td>0.814221</td>\n",
       "      <td>1.000000</td>\n",
       "      <td>0.885966</td>\n",
       "      <td>0.897598</td>\n",
       "    </tr>\n",
       "    <tr>\n",
       "      <th>4</th>\n",
       "      <td>0.05</td>\n",
       "      <td>0.829917</td>\n",
       "      <td>1.000000</td>\n",
       "      <td>0.897575</td>\n",
       "      <td>0.907054</td>\n",
       "    </tr>\n",
       "    <tr>\n",
       "      <th>...</th>\n",
       "      <td>...</td>\n",
       "      <td>...</td>\n",
       "      <td>...</td>\n",
       "      <td>...</td>\n",
       "      <td>...</td>\n",
       "    </tr>\n",
       "    <tr>\n",
       "      <th>94</th>\n",
       "      <td>0.95</td>\n",
       "      <td>1.000000</td>\n",
       "      <td>0.739782</td>\n",
       "      <td>0.869949</td>\n",
       "      <td>0.850431</td>\n",
       "    </tr>\n",
       "    <tr>\n",
       "      <th>95</th>\n",
       "      <td>0.96</td>\n",
       "      <td>1.000000</td>\n",
       "      <td>0.691561</td>\n",
       "      <td>0.845849</td>\n",
       "      <td>0.817660</td>\n",
       "    </tr>\n",
       "    <tr>\n",
       "      <th>96</th>\n",
       "      <td>0.97</td>\n",
       "      <td>1.000000</td>\n",
       "      <td>0.625698</td>\n",
       "      <td>0.812932</td>\n",
       "      <td>0.769759</td>\n",
       "    </tr>\n",
       "    <tr>\n",
       "      <th>97</th>\n",
       "      <td>0.98</td>\n",
       "      <td>1.000000</td>\n",
       "      <td>0.527786</td>\n",
       "      <td>0.763997</td>\n",
       "      <td>0.690916</td>\n",
       "    </tr>\n",
       "    <tr>\n",
       "      <th>98</th>\n",
       "      <td>0.99</td>\n",
       "      <td>1.000000</td>\n",
       "      <td>0.368715</td>\n",
       "      <td>0.684497</td>\n",
       "      <td>0.538776</td>\n",
       "    </tr>\n",
       "  </tbody>\n",
       "</table>\n",
       "<p>99 rows × 5 columns</p>\n",
       "</div>"
      ],
      "text/plain": [
       "    threshold  precision    recall  accuracy  f1_score\n",
       "0        0.01   0.741605  1.000000  0.825863  0.851634\n",
       "1        0.02   0.774715  1.000000  0.854666  0.873059\n",
       "2        0.03   0.796114  1.000000  0.872006  0.886485\n",
       "3        0.04   0.814221  1.000000  0.885966  0.897598\n",
       "4        0.05   0.829917  1.000000  0.897575  0.907054\n",
       "..        ...        ...       ...       ...       ...\n",
       "94       0.95   1.000000  0.739782  0.869949  0.850431\n",
       "95       0.96   1.000000  0.691561  0.845849  0.817660\n",
       "96       0.97   1.000000  0.625698  0.812932  0.769759\n",
       "97       0.98   1.000000  0.527786  0.763997  0.690916\n",
       "98       0.99   1.000000  0.368715  0.684497  0.538776\n",
       "\n",
       "[99 rows x 5 columns]"
      ]
     },
     "execution_count": 28,
     "metadata": {},
     "output_type": "execute_result"
    }
   ],
   "source": [
    "thresh = np.arange(0.01, 1, .01) # create array 0.01, 0.02, 0.03, ..., 0.99\n",
    "\n",
    "# create empty lists for each metric\n",
    "precision_values = []\n",
    "recall_values = []\n",
    "acc_values = []\n",
    "f1_values = []\n",
    "\n",
    "# Loop through each threshold value - .01, .02, .03, ..., .99\n",
    "for val in thresh:\n",
    "    \n",
    "    # get 1 / 0 predictions based off probability threshold\n",
    "    pred = [1 if prob >= val else 0 for prob in y_train_prob[:,1]]\n",
    "    \n",
    "    # calculate precision, recall, accuracy, and f1-score\n",
    "    precision = metrics.precision_score(y_train, pred)\n",
    "    recall = metrics.recall_score(y_train, pred)\n",
    "    accuracy = metrics.accuracy_score(y_train, pred)\n",
    "    f1_score = metrics.f1_score(y_train, pred)\n",
    "    \n",
    "    # add precision, recall, accuracy, and f1-score to their respective lists\n",
    "    precision_values.append(precision)\n",
    "    recall_values.append(recall)\n",
    "    acc_values.append(accuracy)\n",
    "    f1_values.append(f1_score)\n",
    "\n",
    "# put precision, recall, and accuracy values into a data frame\n",
    "result = pd.DataFrame()\n",
    "result[\"threshold\"] = thresh\n",
    "result[\"precision\"] = precision_values\n",
    "result[\"recall\"] = recall_values\n",
    "result[\"accuracy\"] = acc_values\n",
    "result[\"f1_score\"] = f1_values\n",
    "\n",
    "result "
   ]
  },
  {
   "cell_type": "code",
   "execution_count": 29,
   "metadata": {},
   "outputs": [
    {
     "data": {
      "text/plain": [
       "threshold    0.590000\n",
       "precision    0.993539\n",
       "recall       0.994707\n",
       "accuracy     0.994122\n",
       "f1_score     0.994123\n",
       "Name: 58, dtype: float64"
      ]
     },
     "execution_count": 29,
     "metadata": {},
     "output_type": "execute_result"
    }
   ],
   "source": [
    "result.iloc[result.f1_score.idxmax()]"
   ]
  },
  {
   "cell_type": "code",
   "execution_count": 30,
   "metadata": {},
   "outputs": [
    {
     "name": "stdout",
     "output_type": "stream",
     "text": [
      "Validation precision:  0.8958730158730158\n",
      "Validation recall:  0.9664383561643836\n",
      "Validation accuracy:  0.926979773740144\n",
      "Validation F1-Score:  0.9298187808896211\n"
     ]
    }
   ],
   "source": [
    "## Use above threshold to calculate accuracy, precision, recall, and F1-score on validation set\n",
    "\n",
    "# get 1 / 0 predictions based off probability threshold\n",
    "pred = [1 if prob >= 0.4 else 0 for prob in y_val_prob[:,1]]\n",
    "\n",
    "# calculate precision, recall, accuracy, and f1-score\n",
    "precision = metrics.precision_score(y_valid, pred)\n",
    "recall = metrics.recall_score(y_valid, pred)\n",
    "accuracy = metrics.accuracy_score(y_valid, pred)\n",
    "f1_score = metrics.f1_score(y_valid, pred)\n",
    "\n",
    "print(\"Validation precision: \", precision)\n",
    "print(\"Validation recall: \", recall)\n",
    "print(\"Validation accuracy: \", accuracy)\n",
    "print(\"Validation F1-Score: \", f1_score)"
   ]
  },
  {
   "cell_type": "code",
   "execution_count": null,
   "metadata": {},
   "outputs": [],
   "source": []
  }
 ],
 "metadata": {
  "kernelspec": {
   "display_name": "Python 3",
   "language": "python",
   "name": "python3"
  },
  "language_info": {
   "codemirror_mode": {
    "name": "ipython",
    "version": 3
   },
   "file_extension": ".py",
   "mimetype": "text/x-python",
   "name": "python",
   "nbconvert_exporter": "python",
   "pygments_lexer": "ipython3",
   "version": "3.8.5"
  }
 },
 "nbformat": 4,
 "nbformat_minor": 4
}
